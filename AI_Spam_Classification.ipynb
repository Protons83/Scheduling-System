{
  "nbformat": 4,
  "nbformat_minor": 0,
  "metadata": {
    "colab": {
      "provenance": [],
      "include_colab_link": true
    },
    "kernelspec": {
      "name": "python3",
      "display_name": "Python 3"
    },
    "language_info": {
      "name": "python"
    }
  },
  "cells": [
    {
      "cell_type": "markdown",
      "metadata": {
        "id": "view-in-github",
        "colab_type": "text"
      },
      "source": [
        "<a href=\"https://colab.research.google.com/github/Protons83/Scheduling-System/blob/main/AI_Spam_Classification.ipynb\" target=\"_parent\"><img src=\"https://colab.research.google.com/assets/colab-badge.svg\" alt=\"Open In Colab\"/></a>"
      ]
    },
    {
      "cell_type": "code",
      "execution_count": null,
      "metadata": {
        "id": "He_PBqOA8zJd",
        "colab": {
          "base_uri": "https://localhost:8080/"
        },
        "outputId": "f8b8530d-3a42-4745-805e-5fff88440762"
      },
      "outputs": [
        {
          "output_type": "stream",
          "name": "stdout",
          "text": [
            "                                                Body  Spam(1) or Ham(0)  \\\n",
            "0  Subject: hpl nom for january 9 , 2001\\n( see a...                  0   \n",
            "1  Subject: neon retreat\\nho ho ho , we ' re arou...                  0   \n",
            "2  Subject: photoshop , windows , office . cheap ...                  1   \n",
            "3  Subject: re : indian springs\\nthis deal is to ...                  0   \n",
            "4  Subject: ehronline web address change\\nthis me...                  0   \n",
            "\n",
            "       Category  \n",
            "0  work related  \n",
            "1         other  \n",
            "2  work related  \n",
            "3         other  \n",
            "4         other  \n"
          ]
        }
      ],
      "source": [
        "import numpy as np\n",
        "import pandas as pd\n",
        "import matplotlib.pyplot as plt\n",
        "from sklearn.feature_extraction.text import TfidfVectorizer\n",
        "from sklearn.model_selection import train_test_split\n",
        "from sklearn.preprocessing import LabelEncoder\n",
        "from sklearn.svm import SVC\n",
        "from sklearn.multiclass import OneVsRestClassifier\n",
        "from sklearn.metrics import classification_report, confusion_matrix\n",
        "from wordcloud import WordCloud, STOPWORDS\n",
        "import seaborn as sns\n",
        "import pandas as pd\n",
        "from wordcloud import WordCloud, STOPWORDS\n",
        "\n",
        "# Load the dataset from Google Drive\n",
        "df = pd.read_csv('/content/drive/MyDrive/AI spam/dataset/spamham (1).csv')\n",
        "# Check the first few rows of the dataset\n",
        "print(df.head())\n",
        "\n",
        "# Extract features and labels\n",
        "X = df['Body']\n",
        "y = df['Category']\n",
        "# Convert text data to TF-IDF features\n",
        "vectorizer = TfidfVectorizer(stop_words='english', max_features=2000)\n",
        "X_tfidf = vectorizer.fit_transform(X)\n",
        "\n",
        "# Encode the multi-class labels\n",
        "label_encoder = LabelEncoder()\n",
        "y_encoded = label_encoder.fit_transform(y)\n"
      ]
    },
    {
      "cell_type": "code",
      "source": [
        "from google.colab import drive\n",
        "drive.mount('/content/drive')"
      ],
      "metadata": {
        "colab": {
          "base_uri": "https://localhost:8080/"
        },
        "id": "5DWDrn5QcQjd",
        "outputId": "99133c03-48a9-4a5b-fc38-e8713251e16a"
      },
      "execution_count": null,
      "outputs": [
        {
          "output_type": "stream",
          "name": "stdout",
          "text": [
            "Mounted at /content/drive\n"
          ]
        }
      ]
    },
    {
      "cell_type": "code",
      "source": [
        "# Check the first few rows of the dataset\n",
        "print(df.head())\n",
        "\n"
      ],
      "metadata": {
        "colab": {
          "base_uri": "https://localhost:8080/"
        },
        "id": "TtlsU4RxNuV7",
        "outputId": "018fbe7b-fc4e-491e-c5f5-1bf4396109ac"
      },
      "execution_count": null,
      "outputs": [
        {
          "output_type": "stream",
          "name": "stdout",
          "text": [
            "                                                Body  Spam(1) or Ham(0)  \\\n",
            "0  Subject: hpl nom for january 9 , 2001\\n( see a...                  0   \n",
            "1  Subject: neon retreat\\nho ho ho , we ' re arou...                  0   \n",
            "2  Subject: photoshop , windows , office . cheap ...                  1   \n",
            "3  Subject: re : indian springs\\nthis deal is to ...                  0   \n",
            "4  Subject: ehronline web address change\\nthis me...                  0   \n",
            "\n",
            "       Category  \n",
            "0  work related  \n",
            "1         other  \n",
            "2  work related  \n",
            "3         other  \n",
            "4         other  \n"
          ]
        }
      ]
    },
    {
      "cell_type": "code",
      "source": [],
      "metadata": {
        "id": "8nLrZlkhHhea"
      },
      "execution_count": null,
      "outputs": []
    },
    {
      "cell_type": "code",
      "source": [
        "# Split the data into 70% training and 30% remaining (test + validation)\n",
        "X_train, X_temp, y_train, y_temp = train_test_split(X_tfidf, y, test_size=0.3, random_state=42)\n",
        "# Split the remaining 30% into 15% test and 15% validation\n",
        "X_test, X_val, y_test, y_val = train_test_split(X_temp, y_temp, test_size=0.5, random_state=42)\n",
        "\n",
        "# Verify the sizes of the splits\n",
        "print(f\"Training set: {X_train.shape[0]} samples\")\n",
        "print(f\"Test set: {X_test.shape[0]} samples\")\n",
        "print(f\"Validation set: {X_val.shape[0]} samples\")\n",
        "\n",
        "# Train an SVM model\n",
        "svm_model = OneVsRestClassifier(SVC(kernel='linear'))\n",
        "svm_model.fit(X_train, y_train)\n",
        "\n",
        "# Make predictions on the test set\n",
        "y_pred = svm_model.predict(X_test)\n",
        "\n",
        "# Generate a classification report\n",
        "print(\"Classification Report:\")\n",
        "print(classification_report(y_test, y_pred, target_names=label_encoder.classes_))\n",
        "\n",
        "# Generate a confusion matrix\n",
        "conf_matrix = confusion_matrix(y_test, y_pred)\n",
        "print(\"Confusion Matrix:\")\n",
        "print(conf_matrix)\n",
        "\n",
        "# Visualize the confusion matrix\n",
        "plt.figure(figsize=(8, 6))\n",
        "sns.heatmap(conf_matrix, annot=True, fmt='d', cmap='Blues', xticklabels=label_encoder.classes_, yticklabels=label_encoder.classes_)\n",
        "plt.xlabel('Predicted')\n",
        "plt.ylabel('True')\n",
        "plt.title('Confusion Matrix')\n",
        "plt.show()"
      ],
      "metadata": {
        "colab": {
          "base_uri": "https://localhost:8080/",
          "height": 911
        },
        "id": "F3TOQTJiBG7j",
        "outputId": "395783d5-352a-4920-ce03-f22d9bbcb261"
      },
      "execution_count": null,
      "outputs": [
        {
          "output_type": "stream",
          "name": "stdout",
          "text": [
            "Training set: 3019 samples\n",
            "Test set: 647 samples\n",
            "Validation set: 647 samples\n",
            "Classification Report:\n",
            "              precision    recall  f1-score   support\n",
            "\n",
            "   marketing       0.89      0.78      0.83       160\n",
            "       other       0.85      0.95      0.90       272\n",
            "      threat       0.79      0.58      0.67        38\n",
            "work related       0.81      0.80      0.80       177\n",
            "\n",
            "    accuracy                           0.85       647\n",
            "   macro avg       0.83      0.78      0.80       647\n",
            "weighted avg       0.85      0.85      0.84       647\n",
            "\n",
            "Confusion Matrix:\n",
            "[[125  15   3  17]\n",
            " [  3 259   0  10]\n",
            " [  2   8  22   6]\n",
            " [ 10  23   3 141]]\n"
          ]
        },
        {
          "output_type": "display_data",
          "data": {
            "text/plain": [
              "<Figure size 800x600 with 2 Axes>"
            ],
            "image/png": "[encoded data removed]"
          },
          "metadata": {}
        }
      ]
    },
    {
      "cell_type": "code",
      "source": [],
      "metadata": {
        "id": "_Z_EIcn5HPcM"
      },
      "execution_count": null,
      "outputs": []
    }
  ]
}